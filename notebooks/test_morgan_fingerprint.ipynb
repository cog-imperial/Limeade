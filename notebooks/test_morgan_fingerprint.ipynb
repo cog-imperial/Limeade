{
 "cells": [
  {
   "cell_type": "code",
   "execution_count": 1,
   "id": "eab674d5",
   "metadata": {},
   "outputs": [
    {
     "name": "stdout",
     "output_type": "stream",
     "text": [
      "Set parameter Username\n",
      "Academic license - for non-commercial use only - expires 2025-03-11\n"
     ]
    },
    {
     "name": "stderr",
     "output_type": "stream",
     "text": [
      "\r",
      "  0%|                                                                                           | 0/10 [00:00<?, ?it/s]"
     ]
    },
    {
     "name": "stdout",
     "output_type": "stream",
     "text": [
      "Discarded solution information\n",
      "Reset all parameters\n"
     ]
    },
    {
     "name": "stderr",
     "output_type": "stream",
     "text": [
      "100%|██████████████████████████████████████████████████████████████████████████████████| 10/10 [00:03<00:00,  2.89it/s]"
     ]
    },
    {
     "name": "stdout",
     "output_type": "stream",
     "text": [
      "Total time = 3.4687767028808594\n",
      "Time spent on extracting solutions = 0.801180362701416\n"
     ]
    },
    {
     "name": "stderr",
     "output_type": "stream",
     "text": [
      "\n"
     ]
    }
   ],
   "source": [
    "from Constraints import MIPMol\n",
    "from rdkit import Chem\n",
    "from gurobipy import GRB\n",
    "\n",
    "# set the number of atoms and types of atoms\n",
    "N = 20\n",
    "Mol = MIPMol(atoms=[\"C\", \"N\", \"O\", \"S\"], N_atoms=N)\n",
    "\n",
    "# set the bounds for the number of each type of atom (optional)\n",
    "lb = [N // 2, None, None, None]\n",
    "ub = [None, N // 4, N // 4, N // 4]\n",
    "Mol.bounds_atoms(lb, ub)\n",
    "\n",
    "# set the bounds for number of double/triple bonds, and rings (optional)\n",
    "Mol.bounds_double_bonds(None, N // 2)\n",
    "Mol.bounds_triple_bonds(None, N // 2)\n",
    "Mol.bounds_rings(None, 0)\n",
    "\n",
    "Mol.exclude_substructures([\"[N,O,S]~[N,O,S]\"], \"SMARTS\")\n",
    "Mol.exclude_substructures([\"[N,O,S]~[C,N,O,S]~[N,O,S]\"], \"SMARTS\")\n",
    "Mol.exclude_substructures([\"[C&H0]\"], \"SMARTS\")\n",
    "# Mol.exclude_substructures([\"CC(C)S\"], \"SMILES\")\n",
    "\n",
    "# time is also printed now\n",
    "# TODO: the TimeLimit works for each batch now, should put a TimeLimit on total time\n",
    "mols, total_time, extract_time = Mol.solve(NumSolutions=1000, TimeLimit=3600, BatchSize=100)\n",
    "\n",
    "print(\"Total time =\", total_time)\n",
    "print(\"Time spent on extracting solutions =\", extract_time)"
   ]
  },
  {
   "cell_type": "code",
   "execution_count": 2,
   "id": "3e0f831a",
   "metadata": {},
   "outputs": [
    {
     "name": "stdout",
     "output_type": "stream",
     "text": [
      "842\n",
      "[('CC(C)S', 152), ('CC=S', 9), ('CSC', 1)]\n"
     ]
    }
   ],
   "source": [
    "from typing import Literal, Union\n",
    "import numpy as np\n",
    "from rdkit import Chem\n",
    "from rdkit.Chem import AllChem\n",
    "from rdkit.Chem import Descriptors\n",
    "\n",
    "fps = np.load(\"chembl_fps.npy\", allow_pickle=True).item()\n",
    "\n",
    "# checking if mol has weird substructures, if it does, put all weird substructures into a dictionary\n",
    "def has_chembl_substruct(mol: Chem.Mol, weird_substructs: dict) -> int:\n",
    "    \"\"\"0 for molecuels with substructures (ECFP2) that occur less often than 5 times in ChEMBL.\"\"\"\n",
    "    fpgen = AllChem.GetMorganGenerator(radius=1)\n",
    "    ao = AllChem.AdditionalOutput()\n",
    "    ao.CollectBitInfoMap()\n",
    "    fp = fpgen.GetSparseCountFingerprint(mol,additionalOutput=ao)\n",
    "    info = ao.GetBitInfoMap()\n",
    "    res = True\n",
    "    for bit in fp.GetNonzeroElements().keys():\n",
    "        if bit not in fps:\n",
    "            res = False\n",
    "            idx = info[bit][0][0]\n",
    "            env = Chem.FindAtomEnvironmentOfRadiusN(mol,1,idx)\n",
    "            submol=Chem.PathToSubmol(mol,env,atomMap={})\n",
    "            smiles = Chem.MolToSmiles(submol)\n",
    "            if smiles not in weird_substructs:\n",
    "                weird_substructs[smiles] = 1\n",
    "            else:\n",
    "                weird_substructs[smiles] += 1\n",
    "    return res\n",
    "\n",
    "weird_substructs = {}\n",
    "cnt = 0\n",
    "for mol in mols:\n",
    "    mol.UpdatePropertyCache()\n",
    "    cnt += has_chembl_substruct(mol, weird_substructs)\n",
    "print(cnt)\n",
    "weird_substructs = sorted(weird_substructs.items(), key=lambda item: -item[1])\n",
    "print(weird_substructs)"
   ]
  },
  {
   "cell_type": "code",
   "execution_count": null,
   "id": "6bc7cf2e",
   "metadata": {},
   "outputs": [],
   "source": []
  }
 ],
 "metadata": {
  "kernelspec": {
   "display_name": "CAMD",
   "language": "python",
   "name": "camd"
  },
  "language_info": {
   "codemirror_mode": {
    "name": "ipython",
    "version": 3
   },
   "file_extension": ".py",
   "mimetype": "text/x-python",
   "name": "python",
   "nbconvert_exporter": "python",
   "pygments_lexer": "ipython3",
   "version": "3.9.17"
  }
 },
 "nbformat": 4,
 "nbformat_minor": 5
}

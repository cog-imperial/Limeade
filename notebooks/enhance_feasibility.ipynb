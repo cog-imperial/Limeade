{
 "cells": [
  {
   "cell_type": "markdown",
   "metadata": {},
   "source": [
    "# Enhance feasibility\n",
    "\n",
    "Without more specific restrictions, the search space of Limeade is quite large since it just considers basic rules of the molecular structure, making it hard to generate reasonable molecules in practice. This notebook uses the commonly used morgan fingerprint as the measurement of feasibility, and shows that how to enhance this type of feasibility in Limeade by just adding two lines of commands.\n",
    "\n",
    "This notebooks list some examples to show how to use Limeade to achieve practical requirements.\n",
    "\n",
    "The required Python libraries used this notebook are as follows:\n",
    "- `Limeade`: the package this notebook demonstrates. Limeade can encode molecule space with given requirements into mathematical equations and generate feasible solutions quickly.\n",
    "- `rdkit`: used to plot generated molecules.\n",
    "- `numpy`: used to load the dataset."
   ]
  },
  {
   "cell_type": "code",
   "execution_count": 1,
   "metadata": {},
   "outputs": [],
   "source": [
    "from Limeade import MIPMol\n",
    "from rdkit import Chem\n",
    "from rdkit.Chem import AllChem\n",
    "import numpy as np"
   ]
  },
  {
   "cell_type": "markdown",
   "metadata": {},
   "source": [
    "We define the following function to check the feasibility. A molecule is claimed as infeasible if it contains a Morgan fingerprint with radius 1 that occurs less than 5 times in ChEMBL. This function will also record these \"strange\" substructures for later use."
   ]
  },
  {
   "cell_type": "code",
   "execution_count": 2,
   "metadata": {},
   "outputs": [],
   "source": [
    "fps = np.load(\"data/chembl_fps.npy\", allow_pickle=True).item()\n",
    "\n",
    "# checking if mol has strange substructures,\n",
    "# if it does, put all strange substructures into a dictionary\n",
    "def has_chembl_substruct(mol, strange_parts):\n",
    "    fpgen = AllChem.GetMorganGenerator(radius=1)\n",
    "    ao = AllChem.AdditionalOutput()\n",
    "    ao.CollectBitInfoMap()\n",
    "    fp = fpgen.GetSparseCountFingerprint(mol, additionalOutput=ao)\n",
    "    info = ao.GetBitInfoMap()\n",
    "    res = True\n",
    "    for bit in fp.GetNonzeroElements().keys():\n",
    "        if bit not in fps:\n",
    "            res = False\n",
    "            idx = info[bit][0][0]\n",
    "            env = Chem.FindAtomEnvironmentOfRadiusN(mol, 1, idx)\n",
    "            submol = Chem.PathToSubmol(mol, env, atomMap={})\n",
    "            smiles = Chem.MolToSmiles(submol)\n",
    "            if smiles not in strange_parts:\n",
    "                strange_parts[smiles] = 1\n",
    "            else:\n",
    "                strange_parts[smiles] += 1\n",
    "    return res"
   ]
  },
  {
   "cell_type": "markdown",
   "metadata": {},
   "source": [
    "For a list of molecules, we count the number of feasible molecules using the following function:"
   ]
  },
  {
   "cell_type": "code",
   "execution_count": 3,
   "metadata": {},
   "outputs": [],
   "source": [
    "# count the number of feasible molecules\n",
    "# a dictionary of strange substructures is also returned\n",
    "def count_feasible(mols):\n",
    "    # dictionary of strange substructures\n",
    "    strange_parts = {}\n",
    "    # number of feasible molecules\n",
    "    cnt = 0\n",
    "    for mol in mols:\n",
    "        mol.UpdatePropertyCache()\n",
    "        cnt += has_chembl_substruct(mol, strange_parts)\n",
    "    strange_parts = sorted(strange_parts.items(), key=lambda item: -item[1])\n",
    "    return cnt, strange_parts"
   ]
  },
  {
   "cell_type": "markdown",
   "metadata": {},
   "source": [
    "## Round 1: without excluding substructures\n",
    "\n",
    "We first count how many feasible molecules generated without excluding any substructures."
   ]
  },
  {
   "cell_type": "code",
   "execution_count": 4,
   "metadata": {},
   "outputs": [
    {
     "name": "stdout",
     "output_type": "stream",
     "text": [
      "Set parameter Username\n",
      "Academic license - for non-commercial use only - expires 2025-03-11\n"
     ]
    },
    {
     "name": "stderr",
     "output_type": "stream",
     "text": [
      "  0%|          | 0/10 [00:00<?, ?it/s]"
     ]
    },
    {
     "name": "stdout",
     "output_type": "stream",
     "text": [
      "Discarded solution information\n",
      "Reset all parameters\n"
     ]
    },
    {
     "name": "stderr",
     "output_type": "stream",
     "text": [
      "100%|██████████| 10/10 [00:01<00:00,  5.00it/s]\n"
     ]
    },
    {
     "name": "stdout",
     "output_type": "stream",
     "text": [
      "Number of feasible molecules: 5\n",
      "Strange substructures appearing among generated molecules:\n",
      "[('CC(C)(C)N', 557), ('CC(C)(C)C', 335), ('CC(C)(N)O', 248), ('CC(C)(C)S', 243), ('CC(C)(C)O', 228), ('CC(C)(N)S', 205), ('CC(C)(N)N', 145), ('CC(C)(O)S', 126), ('CC(C)(S)S', 105), ('C=C(C)C', 105), ('CC(N)(O)S', 70), ('CC(C)(O)O', 65), ('CN=S', 59), ('CN=O', 52), ('CN(C)S', 48), ('NSO', 45), ('CC(C)=S', 44), ('CN(N)S', 43), ('CC(N)N', 39), ('CC(C)C', 36), ('CSS', 35), ('C=C(C)N', 32), ('OS', 26), ('CN=N', 26), ('CC(O)(S)S', 25), ('COS', 24), ('CN(C)C', 24), ('CC(N)(S)S', 23), ('CC(N)(O)O', 23), ('CN(N)O', 20), ('CC(C)=N', 20), ('CC(N)(N)S', 19), ('CN(C)O', 19), ('CC(N)(N)O', 18), ('CC(O)(O)S', 17), ('CC(N)O', 17), ('CC(S)(S)S', 13), ('CC(N)=S', 13), ('C=NC', 13), ('CN(C)N', 12), ('CSO', 12), ('CNS', 12), ('CC(O)(O)O', 12), ('CC(C)N', 11), ('CC(=S)S', 10), ('C=C(C)S', 10), ('CC(C)S', 10), ('CC(O)S', 9), ('CC(=O)S', 8), ('CC(N)S', 7), ('NOS', 6), ('ON=S', 6), ('NN=S', 5), ('NON', 5), ('NCS', 5), ('NC(N)(O)S', 5), ('NC(O)(S)S', 4), ('C=C(N)O', 4), ('NS', 4), ('CN(S)S', 4), ('CN(O)S', 3), ('N=NS', 3), ('NSS', 3), ('C=C=S', 2), ('NCN', 2), ('CC=S', 2), ('CC(S)S', 2), ('CC(N)(N)N', 2), ('C=C(C)O', 2), ('CSN', 2), ('ONO', 2), ('C=C=O', 2), ('NC(O)(O)S', 2), ('CN(O)O', 2), ('OSO', 2), ('NC(O)S', 2), ('C=C(N)N', 2), ('CNN', 2), ('NNS', 2), ('CC=N', 2), ('CON', 1), ('NC(S)S', 1), ('OC(S)(S)S', 1), ('OC(O)(S)S', 1), ('N=NN', 1), ('OC(O)S', 1), ('NOO', 1), ('NNN', 1), ('NN(O)S', 1), ('CN(N)N', 1), ('N=NO', 1), ('NCO', 1), ('C=CS', 1), ('NC(N)(S)S', 1), ('C=C(N)S', 1), ('C=NS', 1), ('NN(N)N', 1), ('OOS', 1), ('CC(=N)S', 1)]\n"
     ]
    }
   ],
   "source": [
    "# set the number of atoms and types of atoms\n",
    "N = 20\n",
    "Mol = MIPMol(atoms=[\"C\", \"N\", \"O\", \"S\"], N_atoms=N)\n",
    "\n",
    "# set the bounds for the number of each type of atom (optional)\n",
    "lb = [N // 2, None, None, None]\n",
    "ub = [None, N // 4, N // 4, N // 4]\n",
    "Mol.bounds_atoms(lb, ub)\n",
    "\n",
    "# set the bounds for number of double/triple bonds, and rings (optional)\n",
    "Mol.bounds_double_bonds(None, N // 2)\n",
    "Mol.bounds_triple_bonds(None, N // 2)\n",
    "Mol.bounds_rings(None, 0)\n",
    "\n",
    "mols = Mol.solve(NumSolutions=1000)\n",
    "\n",
    "cnt, strange_parts = count_feasible(mols)\n",
    "\n",
    "print(\"Number of feasible molecules:\", cnt)\n",
    "print(\"Strange substructures appearing among generated molecules:\")\n",
    "print(strange_parts)"
   ]
  },
  {
   "cell_type": "markdown",
   "metadata": {},
   "source": [
    "## Round 2: exclude carbon without implicit hydrogen\n",
    "\n",
    "From those strange substructures as shown in Round 1, we can notice that most molecules are infeasible since they contain a carbon linked with four carbon atoms or heteroatoms. Let us try to exclude this substructure and check if we can get more feasible molecules."
   ]
  },
  {
   "cell_type": "code",
   "execution_count": 5,
   "metadata": {},
   "outputs": [
    {
     "name": "stderr",
     "output_type": "stream",
     "text": [
      "100%|██████████| 10/10 [00:01<00:00,  5.45it/s]\n"
     ]
    },
    {
     "name": "stdout",
     "output_type": "stream",
     "text": [
      "Number of feasible molecules: 61\n",
      "Strange substructures appearing among generated molecules:\n",
      "[('CN(C)N', 429), ('CC(N)N', 337), ('CC(N)O', 236), ('CN(N)S', 194), ('CN(N)O', 192), ('CC(N)S', 184), ('CN(C)S', 160), ('CN(N)N', 159), ('CSN', 88), ('OS', 61), ('CN(O)S', 56), ('NC(O)O', 54), ('CC(O)S', 53), ('NON', 52), ('CN(C)O', 49), ('COS', 46), ('NOO', 42), ('NC(N)O', 33), ('CN(O)O', 33), ('NOS', 32), ('CON', 25), ('NN(O)S', 24), ('CSO', 24), ('CC(C)S', 21), ('CC=S', 20), ('NN(S)S', 19), ('NC(N)S', 15), ('NN(N)O', 14), ('NC(O)S', 13), ('CC(O)O', 11), ('CC(S)S', 10), ('CN(S)S', 10), ('NCS', 9), ('CNS', 8), ('NN(O)O', 7), ('NN(N)S', 7), ('NNN', 6), ('NN(N)N', 6), ('OOS', 6), ('NSS', 6), ('CN=S', 6), ('NCO', 5), ('NSO', 5), ('OSO', 4), ('NC(S)S', 4), ('NC(N)N', 4), ('NNO', 4), ('CSC', 3), ('SCS', 3), ('OC(O)S', 2), ('SNS', 2), ('SOS', 2), ('NSN', 2), ('OOO', 1), ('N=CN', 1), ('CN(C)C', 1), ('O=CS', 1), ('ONS', 1), ('S=CS', 1), ('N=NN', 1), ('ON(O)O', 1), ('OC(O)O', 1), ('CC(C)N', 1), ('NNS', 1), ('CSS', 1), ('OCS', 1)]\n"
     ]
    }
   ],
   "source": [
    "# exclude substructure C&H0\n",
    "Mol.exclude_substructures([\"[C&H0]\"])\n",
    "\n",
    "mols = Mol.solve(NumSolutions=1000)\n",
    "\n",
    "cnt, strange_parts = count_feasible(mols)\n",
    "\n",
    "print(\"Number of feasible molecules:\", cnt)\n",
    "print(\"Strange substructures appearing among generated molecules:\")\n",
    "print(strange_parts)"
   ]
  },
  {
   "cell_type": "markdown",
   "metadata": {},
   "source": [
    "## Round 3: exclude chains of heteroatoms\n",
    "\n",
    "In Round 2, we indeed get more feasible molecules than Round 1, but most molecules are still infeasible due to heteroatom-heteroatom or a carbon linked with two heteroatoms. We exclude both substructures and then see the improvements."
   ]
  },
  {
   "cell_type": "code",
   "execution_count": 6,
   "metadata": {},
   "outputs": [
    {
     "name": "stderr",
     "output_type": "stream",
     "text": [
      "100%|██████████| 10/10 [00:03<00:00,  2.79it/s]"
     ]
    },
    {
     "name": "stdout",
     "output_type": "stream",
     "text": [
      "Number of feasible molecules: 777\n",
      "Strange substructures appearing among generated molecules:\n",
      "[('CC(C)S', 68), ('CC=S', 2)]\n"
     ]
    },
    {
     "name": "stderr",
     "output_type": "stream",
     "text": [
      "\n"
     ]
    }
   ],
   "source": [
    "# exclude heteroatom-heteroatom or heteroatom-carbon-heteroatom\n",
    "Mol.exclude_substructures([\"[N,O,S]~[N,O,S]\", \"[N,O,S]~C~[N,O,S]\"])\n",
    "\n",
    "mols = Mol.solve(NumSolutions=1000)\n",
    "\n",
    "cnt, strange_parts = count_feasible(mols)\n",
    "\n",
    "print(\"Number of feasible molecules:\", cnt)\n",
    "print(\"Strange substructures appearing among generated molecules:\")\n",
    "print(strange_parts)"
   ]
  },
  {
   "cell_type": "markdown",
   "metadata": {},
   "source": [
    "Now we have 777 feasible molecules. One might wonder that the total number of molecules is less than 1000. The reason is that we will remove duplicated molecules after solving the model. As shown in the next cell, we can generate 847 unique molecules after generating 1000 solutions, and 777 among 847 molecules are feasible. "
   ]
  },
  {
   "cell_type": "code",
   "execution_count": 7,
   "metadata": {},
   "outputs": [
    {
     "name": "stdout",
     "output_type": "stream",
     "text": [
      "Number of unique molecules: 847\n"
     ]
    }
   ],
   "source": [
    "print(\"Number of unique molecules:\", len(mols))"
   ]
  },
  {
   "cell_type": "markdown",
   "metadata": {},
   "source": [
    "Let us see the performance after adding the aforementioned constraints in larger scale."
   ]
  },
  {
   "cell_type": "code",
   "execution_count": 8,
   "metadata": {},
   "outputs": [
    {
     "name": "stderr",
     "output_type": "stream",
     "text": [
      "100%|██████████| 1000/1000 [06:47<00:00,  2.46it/s]\n"
     ]
    },
    {
     "name": "stdout",
     "output_type": "stream",
     "text": [
      "Number of feasible molecules: 56336\n",
      "Strange substructures appearing among generated molecules:\n",
      "[('CC(C)S', 7349), ('CC=S', 1115), ('CSC', 147), ('CC(C)N', 105), ('CN(C)C', 11), ('C=NC', 3)]\n"
     ]
    }
   ],
   "source": [
    "mols = Mol.solve(NumSolutions=100000)\n",
    "\n",
    "cnt, strange_parts = count_feasible(mols)\n",
    "\n",
    "print(\"Number of feasible molecules:\", cnt)\n",
    "print(\"Strange substructures appearing among generated molecules:\")\n",
    "print(strange_parts)"
   ]
  },
  {
   "cell_type": "code",
   "execution_count": 9,
   "metadata": {},
   "outputs": [
    {
     "name": "stdout",
     "output_type": "stream",
     "text": [
      "64806\n"
     ]
    }
   ],
   "source": [
    "print(len(mols))"
   ]
  }
 ],
 "metadata": {
  "kernelspec": {
   "display_name": "CAMD",
   "language": "python",
   "name": "python3"
  },
  "language_info": {
   "codemirror_mode": {
    "name": "ipython",
    "version": 3
   },
   "file_extension": ".py",
   "mimetype": "text/x-python",
   "name": "python",
   "nbconvert_exporter": "python",
   "pygments_lexer": "ipython3",
   "version": "3.9.17"
  }
 },
 "nbformat": 4,
 "nbformat_minor": 2
}

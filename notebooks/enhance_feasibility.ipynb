{
 "cells": [
  {
   "cell_type": "markdown",
   "metadata": {},
   "source": [
    "# Enhance feasibility of solutions generated from *Limeade*\n",
    "\n",
    "Without more specific restrictions, the search space of *Limeade* is quite large since it just considers basic rules of the molecular structure, making it hard to generate reasonable molecules in practice. This notebook uses the commonly used morgan fingerprint as the measurement of feasibility, and shows that how to enhance this type of feasibility in *Limeade* by just adding two lines of commands.\n",
    "\n",
    "This notebooks list some examples to show how to use *Limeade* to achieve practical requirements.\n",
    "\n",
    "The required Python libraries used in this notebook are as follows:\n",
    "- `Limeade`: the package this notebook demonstrates. It can encode molecule space with given requirements into mathematical equations and generate feasible solutions quickly.\n",
    "- `rdkit`: used to plot generated molecules.\n",
    "- `numpy`: used to load the dataset."
   ]
  },
  {
   "cell_type": "code",
   "execution_count": 1,
   "metadata": {},
   "outputs": [],
   "source": [
    "from limeade import MIPMol\n",
    "from rdkit import Chem\n",
    "from rdkit.Chem import AllChem\n",
    "import numpy as np"
   ]
  },
  {
   "cell_type": "markdown",
   "metadata": {},
   "source": [
    "We define the following function to check the feasibility. A molecule is claimed as infeasible if it contains a Morgan fingerprint with radius 1 that occurs less than 5 times in ChEMBL. This function will also record these \"strange\" substructures for later use."
   ]
  },
  {
   "cell_type": "code",
   "execution_count": 2,
   "metadata": {},
   "outputs": [],
   "source": [
    "fps = np.load(\"data/chembl_fps.npy\", allow_pickle=True).item()\n",
    "\n",
    "# checking if mol has strange substructures,\n",
    "# if it does, put all strange substructures into a dictionary\n",
    "def has_chembl_substruct(mol, strange_parts):\n",
    "    fpgen = AllChem.GetMorganGenerator(radius=1)\n",
    "    ao = AllChem.AdditionalOutput()\n",
    "    ao.CollectBitInfoMap()\n",
    "    fp = fpgen.GetSparseCountFingerprint(mol, additionalOutput=ao)\n",
    "    info = ao.GetBitInfoMap()\n",
    "    res = True\n",
    "    for bit in fp.GetNonzeroElements().keys():\n",
    "        if bit not in fps:\n",
    "            res = False\n",
    "            idx = info[bit][0][0]\n",
    "            env = Chem.FindAtomEnvironmentOfRadiusN(mol, 1, idx)\n",
    "            submol = Chem.PathToSubmol(mol, env, atomMap={})\n",
    "            smiles = Chem.MolToSmiles(submol)\n",
    "            if smiles not in strange_parts:\n",
    "                strange_parts[smiles] = 1\n",
    "            else:\n",
    "                strange_parts[smiles] += 1\n",
    "    return res"
   ]
  },
  {
   "cell_type": "markdown",
   "metadata": {},
   "source": [
    "For a list of molecules, we count the number of feasible molecules using the following function:"
   ]
  },
  {
   "cell_type": "code",
   "execution_count": 3,
   "metadata": {},
   "outputs": [],
   "source": [
    "# count the number of feasible molecules\n",
    "# a dictionary of strange substructures is also returned\n",
    "def count_feasible(mols):\n",
    "    # dictionary of strange substructures\n",
    "    strange_parts = {}\n",
    "    # number of feasible molecules\n",
    "    cnt = 0\n",
    "    for mol in mols:\n",
    "        mol.UpdatePropertyCache()\n",
    "        cnt += has_chembl_substruct(mol, strange_parts)\n",
    "    strange_parts = sorted(strange_parts.items(), key=lambda item: -item[1])\n",
    "    return cnt, strange_parts"
   ]
  },
  {
   "cell_type": "markdown",
   "metadata": {},
   "source": [
    "## Round 1: without excluding substructures\n",
    "\n",
    "We first count how many feasible molecules generated without excluding any substructures."
   ]
  },
  {
   "cell_type": "code",
   "execution_count": 4,
   "metadata": {},
   "outputs": [
    {
     "name": "stdout",
     "output_type": "stream",
     "text": [
      "Set parameter Username\n",
      "Academic license - for non-commercial use only - expires 2025-03-11\n"
     ]
    },
    {
     "name": "stderr",
     "output_type": "stream",
     "text": [
      "  0%|          | 0/10 [00:00<?, ?it/s]"
     ]
    },
    {
     "name": "stdout",
     "output_type": "stream",
     "text": [
      "Discarded solution information\n",
      "Reset all parameters\n"
     ]
    },
    {
     "name": "stderr",
     "output_type": "stream",
     "text": [
      "100%|██████████| 10/10 [00:01<00:00,  5.01it/s]\n"
     ]
    },
    {
     "name": "stdout",
     "output_type": "stream",
     "text": [
      "1000 molecules are generated after 2.0 seconds.\n",
      "There are 957 molecules left after removing symmetric and invalid molecules.\n",
      "Number of feasible molecules: 2\n",
      "Strange substructures appearing among generated molecules:\n",
      "[('CC(C)(C)N', 717), ('CC(C)(C)C', 309), ('CC(C)(N)O', 282), ('CC(C)(N)N', 213), ('CC(C)(C)O', 194), ('CC(C)(C)S', 185), ('CC(C)(O)S', 177), ('CC(C)(N)S', 155), ('CC(C)(O)O', 99), ('C=C(C)C', 85), ('CC(N)(N)O', 58), ('CC(C)=S', 56), ('CN(C)S', 55), ('CC(C)S', 54), ('CC(N)(O)O', 47), ('C=NC', 46), ('CC(C)(S)S', 42), ('CN(C)O', 42), ('CN=S', 39), ('CN(C)N', 38), ('CN(O)S', 35), ('CC(C)C', 32), ('OS', 30), ('COS', 30), ('C=C(C)O', 30), ('CC(N)(N)S', 30), ('CN=N', 29), ('CC(N)(O)S', 26), ('C=C(C)S', 25), ('CC(C)=N', 25), ('CN=O', 24), ('CC(N)N', 23), ('CC(C)N', 22), ('CC(O)(O)O', 19), ('C=C(C)N', 18), ('CC(O)(O)S', 17), ('CC(N)(N)N', 15), ('CN(N)S', 15), ('CC(=N)S', 14), ('CC=S', 14), ('CON', 13), ('NSO', 12), ('CC(N)S', 11), ('C=C(N)S', 11), ('NCS', 9), ('CN(N)O', 9), ('CC(N)O', 8), ('CN(O)O', 8), ('CC(N)(S)S', 8), ('CC(S)(S)S', 5), ('CN(C)C', 5), ('NC(N)(S)S', 5), ('C=C(N)O', 5), ('NN(N)O', 5), ('C=C=N', 5), ('NC(O)(S)S', 4), ('CC=N', 4), ('OSO', 4), ('CNS', 4), ('CC(N)=S', 4), ('CC(=N)O', 3), ('CC(O)S', 3), ('CC(O)(S)S', 3), ('CN(N)N', 3), ('NC(N)(N)O', 3), ('CSO', 3), ('CC(O)=S', 3), ('OOS', 3), ('NNS', 3), ('NNO', 2), ('OSS', 2), ('CNN', 2), ('NOO', 2), ('C=CO', 2), ('CSC', 2), ('S=NS', 2), ('ONS', 2), ('CC(O)O', 2), ('NC(N)(O)S', 1), ('CN(S)S', 1), ('NC(N)(N)S', 1), ('NOS', 1), ('NC(N)(O)O', 1), ('NN(O)O', 1), ('NC(N)O', 1), ('C=C=O', 1), ('O=CS', 1), ('CC(=S)S', 1), ('C=C(N)N', 1), ('NN(O)S', 1), ('C=C(O)S', 1), ('ON(O)S', 1), ('CSS', 1), ('CSN', 1), ('CC(=N)N', 1), ('NNN', 1), ('CC(=O)S', 1), ('NN=S', 1), ('NON', 1), ('NSS', 1)]\n"
     ]
    }
   ],
   "source": [
    "# set the number of atoms and types of atoms\n",
    "N = 20\n",
    "Mol = MIPMol(atoms=[\"C\", \"N\", \"O\", \"S\"], N_atoms=N)\n",
    "\n",
    "# set the bounds for the number of each type of atom (optional)\n",
    "lb = [N // 2, None, None, None]\n",
    "ub = [None, N // 4, N // 4, N // 4]\n",
    "Mol.bounds_atoms(lb, ub)\n",
    "\n",
    "# set the bounds for number of double/triple bonds, and rings (optional)\n",
    "Mol.bounds_double_bonds(None, N // 2)\n",
    "Mol.bounds_triple_bonds(None, N // 2)\n",
    "Mol.bounds_rings(None, 0)\n",
    "\n",
    "mols = Mol.solve(NumSolutions=1000)\n",
    "\n",
    "cnt, strange_parts = count_feasible(mols)\n",
    "\n",
    "print(\"Number of feasible molecules:\", cnt)\n",
    "print(\"Strange substructures appearing among generated molecules:\")\n",
    "print(strange_parts)"
   ]
  },
  {
   "cell_type": "markdown",
   "metadata": {},
   "source": [
    "## Round 2: exclude carbon without any implicit hydrogen atom\n",
    "\n",
    "*Limeade* only generates 2 feasible molecules in Round 1. From those strange substructures as shown in Round 1, we can notice that most molecules are infeasible since they contain a carbon without any implicit hydrogen atom. Let us try to exclude this substructure and check if we can get more feasible molecules."
   ]
  },
  {
   "cell_type": "code",
   "execution_count": 5,
   "metadata": {},
   "outputs": [
    {
     "name": "stderr",
     "output_type": "stream",
     "text": [
      "100%|██████████| 10/10 [00:02<00:00,  4.61it/s]\n"
     ]
    },
    {
     "name": "stdout",
     "output_type": "stream",
     "text": [
      "1000 molecules are generated after 2.17 seconds.\n",
      "There are 970 molecules left after removing symmetric and invalid molecules.\n",
      "Number of feasible molecules: 62\n",
      "Strange substructures appearing among generated molecules:\n",
      "[('CN(C)N', 427), ('CC(N)N', 361), ('CC(N)O', 195), ('CC(N)S', 182), ('CN(N)N', 178), ('CN(N)O', 177), ('CN(C)S', 106), ('CSN', 93), ('CN=S', 84), ('CN(C)O', 69), ('CC(C)S', 63), ('NC(O)S', 57), ('NC(N)O', 54), ('CC(O)S', 54), ('NON', 48), ('CN(O)S', 44), ('CN(N)S', 34), ('NOS', 32), ('NN(N)O', 30), ('OS', 30), ('NOO', 29), ('NC(O)O', 26), ('NC(N)N', 25), ('CON', 24), ('CC=S', 23), ('COS', 22), ('NN(O)O', 22), ('NC(N)S', 18), ('CN(O)O', 18), ('NN(N)N', 16), ('OC(S)S', 11), ('CN(S)S', 11), ('NN=S', 10), ('NC(S)S', 9), ('CC(S)S', 8), ('CNS', 7), ('NN(N)S', 7), ('NN(O)S', 6), ('NCS', 6), ('CC(O)O', 5), ('NCN', 4), ('OC(O)O', 4), ('CSC', 4), ('N=CO', 4), ('CSO', 3), ('ON(O)S', 3), ('NNO', 2), ('OC(O)S', 2), ('SCS', 2), ('CSS', 2), ('OOO', 2), ('NNN', 2), ('N=CS', 2), ('N=CN', 2), ('CC(C)N', 2), ('OCS', 2), ('NCO', 1), ('N=NO', 1), ('NSS', 1), ('SOS', 1), ('SN(S)S', 1), ('ON=S', 1), ('NSN', 1), ('C=NS', 1), ('CN(C)C', 1), ('OOS', 1), ('NSO', 1), ('N=NN', 1)]\n"
     ]
    }
   ],
   "source": [
    "# exclude substructure [CH0]\n",
    "Mol.exclude_substructures([\"[CH0]\"])\n",
    "\n",
    "mols = Mol.solve(NumSolutions=1000)\n",
    "\n",
    "cnt, strange_parts = count_feasible(mols)\n",
    "\n",
    "print(\"Number of feasible molecules:\", cnt)\n",
    "print(\"Strange substructures appearing among generated molecules:\")\n",
    "print(strange_parts)"
   ]
  },
  {
   "cell_type": "markdown",
   "metadata": {},
   "source": [
    "## Round 3: exclude chains of heteroatoms\n",
    "\n",
    "In Round 2, we indeed get more feasible molecules than Round 1, but most molecules are still infeasible due to heteroatom-heteroatom or a carbon linked with two heteroatoms. We exclude both substructures and then see the improvements."
   ]
  },
  {
   "cell_type": "code",
   "execution_count": 6,
   "metadata": {},
   "outputs": [
    {
     "name": "stderr",
     "output_type": "stream",
     "text": [
      "100%|██████████| 10/10 [00:04<00:00,  2.46it/s]"
     ]
    },
    {
     "name": "stdout",
     "output_type": "stream",
     "text": [
      "1000 molecules are generated after 4.08 seconds.\n",
      "There are 855 molecules left after removing symmetric and invalid molecules.\n",
      "Number of feasible molecules: 787\n",
      "Strange substructures appearing among generated molecules:\n",
      "[('CC(C)S', 58), ('CC=S', 13), ('CSC', 1)]\n"
     ]
    },
    {
     "name": "stderr",
     "output_type": "stream",
     "text": [
      "\n"
     ]
    }
   ],
   "source": [
    "# exclude heteroatom-heteroatom or heteroatom-carbon-heteroatom\n",
    "Mol.exclude_substructures([\"[N,O,S]~[N,O,S]\", \"[N,O,S]~C~[N,O,S]\"])\n",
    "\n",
    "mols = Mol.solve(NumSolutions=1000)\n",
    "\n",
    "cnt, strange_parts = count_feasible(mols)\n",
    "\n",
    "print(\"Number of feasible molecules:\", cnt)\n",
    "print(\"Strange substructures appearing among generated molecules:\")\n",
    "print(strange_parts)"
   ]
  },
  {
   "cell_type": "markdown",
   "metadata": {},
   "source": [
    "Now we have 787 feasible molecules out of 855 unique molecules after generating 1000 solutions."
   ]
  },
  {
   "cell_type": "markdown",
   "metadata": {},
   "source": [
    "Let us see the performance after adding the aforementioned constraints in larger scale."
   ]
  },
  {
   "cell_type": "code",
   "execution_count": 7,
   "metadata": {},
   "outputs": [
    {
     "name": "stderr",
     "output_type": "stream",
     "text": [
      "100%|██████████| 1000/1000 [07:07<00:00,  2.34it/s]\n"
     ]
    },
    {
     "name": "stdout",
     "output_type": "stream",
     "text": [
      "100000 molecules are generated after 427.42 seconds.\n",
      "There are 63973 molecules left after removing symmetric and invalid molecules.\n",
      "Number of feasible molecules: 55498\n",
      "Strange substructures appearing among generated molecules:\n",
      "[('CC(C)S', 7837), ('CC=S', 737), ('CSC', 158), ('CC(C)N', 55), ('CN(C)C', 11), ('C=NC', 3)]\n"
     ]
    }
   ],
   "source": [
    "mols = Mol.solve(NumSolutions=100000)\n",
    "\n",
    "cnt, strange_parts = count_feasible(mols)\n",
    "\n",
    "print(\"Number of feasible molecules:\", cnt)\n",
    "print(\"Strange substructures appearing among generated molecules:\")\n",
    "print(strange_parts)"
   ]
  },
  {
   "cell_type": "markdown",
   "metadata": {},
   "source": [
    "We generate near 64k unique molecules, among which more than 86\\% molecules are feasible."
   ]
  }
 ],
 "metadata": {
  "kernelspec": {
   "display_name": "Limeade",
   "language": "python",
   "name": "limeade"
  },
  "language_info": {
   "codemirror_mode": {
    "name": "ipython",
    "version": 3
   },
   "file_extension": ".py",
   "mimetype": "text/x-python",
   "name": "python",
   "nbconvert_exporter": "python",
   "pygments_lexer": "ipython3",
   "version": "3.10.15"
  }
 },
 "nbformat": 4,
 "nbformat_minor": 2
}

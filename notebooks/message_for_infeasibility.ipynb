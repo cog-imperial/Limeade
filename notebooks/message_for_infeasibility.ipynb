{
 "cells": [
  {
   "cell_type": "markdown",
   "metadata": {},
   "source": [
    "# Message for infeasible model\n",
    "\n",
    "Limeade provides messages to help users identify conflicting requirements that result in an infeasible model. Note that this functionality relies on commercial solver *Gurobi* to [compute Irreducible Inconsistent Subsystem (IIS)](https://www.gurobi.com/documentation/current/refman/py_model_computeiis.html). Please follow the instructions to obtain a [free academic license](https://www.gurobi.com/academia/academic-program-and-licenses/). \n",
    "\n",
    "All constraints are classified as the following types:\n",
    "- structural feasibility (no need to check)\n",
    "- lower/upper bound of `atom`/double bonds/triple bonds/rings\n",
    "- include `substructure`\n",
    "- exclude `substructure`\n",
    "where `atom`, `substructure` will be given specifically based on the given information from users.\n",
    "\n",
    "This notebook gives several examples to show these messages in different scenarios.\n",
    "\n",
    "## Example 1\n",
    "In this case, we set the upper bound of rings as 0, but include a benzene ring. "
   ]
  },
  {
   "cell_type": "code",
   "execution_count": 1,
   "metadata": {},
   "outputs": [
    {
     "name": "stdout",
     "output_type": "stream",
     "text": [
      "Set parameter Username\n",
      "Academic license - for non-commercial use only - expires 2025-03-11\n"
     ]
    },
    {
     "name": "stderr",
     "output_type": "stream",
     "text": [
      "  0%|          | 0/1 [00:00<?, ?it/s]"
     ]
    },
    {
     "name": "stdout",
     "output_type": "stream",
     "text": [
      "Discarded solution information\n",
      "Reset all parameters\n"
     ]
    },
    {
     "name": "stderr",
     "output_type": "stream",
     "text": [
      "  0%|          | 0/1 [00:02<?, ?it/s]"
     ]
    },
    {
     "name": "stdout",
     "output_type": "stream",
     "text": [
      "Infeasible model. Please check the following constraints:\n",
      "    -- upper bound of rings\n",
      "    -- include C1=CC=CC=C1\n"
     ]
    },
    {
     "name": "stderr",
     "output_type": "stream",
     "text": [
      "\n"
     ]
    }
   ],
   "source": [
    "from Limeade import MIPMol\n",
    "# set the number of atoms and types of atoms\n",
    "N = 10\n",
    "Mol = MIPMol(atoms=[\"C\", \"N\", \"O\", \"S\"], N_atoms=N)\n",
    "# set the upper bound of rings as 0\n",
    "Mol.bounds_rings(None, 0)\n",
    "# include a benzene ring\n",
    "Mol.include_substructures([\"C1=CC=CC=C1\"], \"SMILES\")\n",
    "# solve the model and generate molecules\n",
    "mols = Mol.solve(NumSolutions=100)"
   ]
  },
  {
   "cell_type": "markdown",
   "metadata": {},
   "source": [
    "## Example 2\n",
    "In this case, we set the upper bound of double bonds as 1, but include allenes."
   ]
  },
  {
   "cell_type": "code",
   "execution_count": 2,
   "metadata": {},
   "outputs": [
    {
     "name": "stderr",
     "output_type": "stream",
     "text": [
      "  0%|          | 0/1 [00:00<?, ?it/s]"
     ]
    },
    {
     "name": "stdout",
     "output_type": "stream",
     "text": [
      "Discarded solution information\n",
      "Reset all parameters\n"
     ]
    },
    {
     "name": "stderr",
     "output_type": "stream",
     "text": [
      "  0%|          | 0/1 [00:01<?, ?it/s]"
     ]
    },
    {
     "name": "stdout",
     "output_type": "stream",
     "text": [
      "Infeasible model. Please check the following constraints:\n",
      "    -- upper bound of double bonds\n",
      "    -- include *=*=*\n"
     ]
    },
    {
     "name": "stderr",
     "output_type": "stream",
     "text": [
      "\n"
     ]
    }
   ],
   "source": [
    "from Limeade import MIPMol\n",
    "# set the number of atoms and types of atoms\n",
    "N = 10\n",
    "Mol = MIPMol(atoms=[\"C\", \"N\", \"O\", \"S\"], N_atoms=N)\n",
    "# set the upper bound of double bonds as 1\n",
    "Mol.bounds_double_bonds(None, 1)\n",
    "# include substructure *=*=*\n",
    "Mol.include_substructures([\"*=*=*\"], \"SMARTS\")\n",
    "# solve the model and generate molecules\n",
    "mols = Mol.solve(NumSolutions=100)"
   ]
  },
  {
   "cell_type": "markdown",
   "metadata": {},
   "source": [
    "## Example 3\n",
    "In this case, we set upper bound for each type of atom, but the sum of upper bounds is less that the total number of atoms."
   ]
  },
  {
   "cell_type": "code",
   "execution_count": 3,
   "metadata": {},
   "outputs": [
    {
     "name": "stderr",
     "output_type": "stream",
     "text": [
      "  0%|          | 0/1 [00:00<?, ?it/s]"
     ]
    },
    {
     "name": "stdout",
     "output_type": "stream",
     "text": [
      "Discarded solution information\n",
      "Reset all parameters\n"
     ]
    },
    {
     "name": "stderr",
     "output_type": "stream",
     "text": [
      "  0%|          | 0/1 [00:00<?, ?it/s]"
     ]
    },
    {
     "name": "stdout",
     "output_type": "stream",
     "text": [
      "Infeasible model. Please check the following constraints:\n",
      "    -- upper bound of C\n",
      "    -- upper bound of N\n",
      "    -- upper bound of O\n",
      "    -- upper bound of S\n"
     ]
    },
    {
     "name": "stderr",
     "output_type": "stream",
     "text": [
      "\n"
     ]
    }
   ],
   "source": [
    "from Limeade import MIPMol\n",
    "# set the number of atoms and types of atoms\n",
    "N = 10\n",
    "Mol = MIPMol(atoms=[\"C\", \"N\", \"O\", \"S\"], N_atoms=N)\n",
    "# set upper bounds for each type of atom\n",
    "lb = [None, None, None, None]\n",
    "ub = [N // 2, N // 4, 0, 0]\n",
    "Mol.bounds_atoms(lb, ub)\n",
    "# solve the model and generate molecules\n",
    "mols = Mol.solve(NumSolutions=100)"
   ]
  },
  {
   "cell_type": "markdown",
   "metadata": {},
   "source": [
    "## Example 4\n",
    "In this case, we include substructure `S~N`, but exclude substructures `S-N` and `S=N`."
   ]
  },
  {
   "cell_type": "code",
   "execution_count": 4,
   "metadata": {},
   "outputs": [
    {
     "name": "stderr",
     "output_type": "stream",
     "text": [
      "  0%|          | 0/1 [00:00<?, ?it/s]"
     ]
    },
    {
     "name": "stdout",
     "output_type": "stream",
     "text": [
      "Discarded solution information\n",
      "Reset all parameters\n"
     ]
    },
    {
     "name": "stderr",
     "output_type": "stream",
     "text": [
      "  0%|          | 0/1 [00:02<?, ?it/s]"
     ]
    },
    {
     "name": "stdout",
     "output_type": "stream",
     "text": [
      "Infeasible model. Please check the following constraints:\n",
      "    -- include S~N\n",
      "    -- exclude S-N\n",
      "    -- exclude S=N\n"
     ]
    },
    {
     "name": "stderr",
     "output_type": "stream",
     "text": [
      "\n"
     ]
    }
   ],
   "source": [
    "from Limeade import MIPMol\n",
    "# set the number of atoms and types of atoms\n",
    "N = 10\n",
    "Mol = MIPMol(atoms=[\"C\", \"N\", \"O\", \"S\"], N_atoms=N)\n",
    "# include substructure S~N\n",
    "Mol.include_substructures([\"S~N\"], \"SMARTS\")\n",
    "# exclude substructures S-N, S=N\n",
    "Mol.exclude_substructures([\"S-N\", \"S=N\"], \"SMARTS\")\n",
    "# solve the model and generate molecules\n",
    "mols = Mol.solve(NumSolutions=100)"
   ]
  }
 ],
 "metadata": {
  "kernelspec": {
   "display_name": "CAMD",
   "language": "python",
   "name": "python3"
  },
  "language_info": {
   "codemirror_mode": {
    "name": "ipython",
    "version": 3
   },
   "file_extension": ".py",
   "mimetype": "text/x-python",
   "name": "python",
   "nbconvert_exporter": "python",
   "pygments_lexer": "ipython3",
   "version": "3.9.17"
  }
 },
 "nbformat": 4,
 "nbformat_minor": 2
}
